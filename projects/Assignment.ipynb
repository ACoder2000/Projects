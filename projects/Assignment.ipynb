{
 "cells": [
  {
   "cell_type": "code",
   "execution_count": 80,
   "id": "b2cac740",
   "metadata": {},
   "outputs": [
    {
     "name": "stdout",
     "output_type": "stream",
     "text": [
      "3\n",
      "1 6 13\n",
      "8 0\n",
      "3 6 0\n",
      "12 30\n",
      "14 45\n",
      "6 0\n",
      "2 23 35\n",
      "20 15\n",
      "10 30\n"
     ]
    }
   ],
   "source": [
    "DTlist=[]\n",
    "k=int(input())\n",
    "for i in range(k):\n",
    "    tab=[]\n",
    "    n,h1,m1=list(map(int,input().split()))\n",
    "    tab.append((h1,m1))\n",
    "    for j in range(n):\n",
    "        h2,m2=list(map(int,input().split()))\n",
    "        tab.append((h2,m2))\n",
    "    DTlist.append(tab)"
   ]
  },
  {
   "cell_type": "code",
   "execution_count": 82,
   "id": "eb3f9839",
   "metadata": {},
   "outputs": [
    {
     "name": "stdout",
     "output_type": "stream",
     "text": [
      "1 47\n",
      "0 0\n",
      "10 55\n"
     ]
    }
   ],
   "source": [
    "final=[24*60 for i in range(k)]\n",
    "for i in range(k):\n",
    "    m1=DTlist[i][0][1]\n",
    "    h1=DTlist[i][0][0]\n",
    "    for j in range(1,len(DTlist[i])):\n",
    "        m2=DTlist[i][j][1]\n",
    "        h2=DTlist[i][j][0]\n",
    "        hourDiff=h2-h1\n",
    "        minDiff=m1-m2\n",
    "        if minDiff>0:\n",
    "            hourDiff=hourDiff-1\n",
    "            minDiff=60-minDiff\n",
    "        if hourDiff<0:\n",
    "            hourDiff=24+hourDiff\n",
    "        if(hourDiff*60+minDiff<final[i]):\n",
    "            final[i]=hourDiff*60+minDiff\n",
    "for i in range(k):\n",
    "    print(final[i]//60,final[i]%60)"
   ]
  },
  {
   "cell_type": "code",
   "execution_count": null,
   "id": "6f91518f",
   "metadata": {},
   "outputs": [],
   "source": []
  },
  {
   "cell_type": "code",
   "execution_count": null,
   "id": "68b3b181",
   "metadata": {},
   "outputs": [],
   "source": []
  },
  {
   "cell_type": "code",
   "execution_count": null,
   "id": "6c3e055e",
   "metadata": {},
   "outputs": [],
   "source": []
  },
  {
   "cell_type": "code",
   "execution_count": null,
   "id": "3e8481ed",
   "metadata": {},
   "outputs": [],
   "source": []
  },
  {
   "cell_type": "code",
   "execution_count": null,
   "id": "a85311d0",
   "metadata": {},
   "outputs": [],
   "source": []
  },
  {
   "cell_type": "code",
   "execution_count": null,
   "id": "bef53f4e",
   "metadata": {},
   "outputs": [],
   "source": []
  },
  {
   "cell_type": "code",
   "execution_count": null,
   "id": "8a179993",
   "metadata": {},
   "outputs": [],
   "source": []
  }
 ],
 "metadata": {
  "kernelspec": {
   "display_name": "Python 3 (ipykernel)",
   "language": "python",
   "name": "python3"
  },
  "language_info": {
   "codemirror_mode": {
    "name": "ipython",
    "version": 3
   },
   "file_extension": ".py",
   "mimetype": "text/x-python",
   "name": "python",
   "nbconvert_exporter": "python",
   "pygments_lexer": "ipython3",
   "version": "3.9.7"
  }
 },
 "nbformat": 4,
 "nbformat_minor": 5
}
