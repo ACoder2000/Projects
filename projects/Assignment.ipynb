{
 "cells": [
  {
   "cell_type": "code",
   "execution_count": 80,
   "id": "6e9f7859",
   "metadata": {},
   "outputs": [
    {
     "name": "stdout",
     "output_type": "stream",
     "text": [
      "3\n",
      "1 6 13\n",
      "8 0\n",
      "3 6 0\n",
      "12 30\n",
      "14 45\n",
      "6 0\n",
      "2 23 35\n",
      "20 15\n",
      "10 30\n"
     ]
    }
   ],
   "source": [
    "DTlist=[]                                        #Initialising date time list\n",
    "k=int(input())\n",
    "for i in range(k):\n",
    "    tab=[]\n",
    "    n,h1,m1=list(map(int,input().split()))\n",
    "    tab.append((h1,m1))\n",
    "    for j in range(n):\n",
    "        h2,m2=list(map(int,input().split()))\n",
    "        tab.append((h2,m2))\n",
    "    DTlist.append(tab)"
   ]
  },
  {
   "cell_type": "code",
   "execution_count": 82,
   "id": "498b1e19",
   "metadata": {},
   "outputs": [
    {
     "name": "stdout",
     "output_type": "stream",
     "text": [
      "1 47\n",
      "0 0\n",
      "10 55\n"
     ]
    }
   ],
   "source": [
    "final=[24*60 for i in range(k)]                   #initialising final answer list\n",
    "for i in range(k):\n",
    "    m1=DTlist[i][0][1]%60                         #Taking remainder for get the input data in the right format\n",
    "    h1=DTlist[i][0][0]%24\n",
    "    for j in range(1,len(DTlist[i])):\n",
    "        m2=DTlist[i][j][1]%60\n",
    "        h2=DTlist[i][j][0]%24\n",
    "        hourDiff=h2-h1\n",
    "        minDiff=m1-m2\n",
    "        if minDiff>0:\n",
    "            hourDiff=hourDiff-1\n",
    "            minDiff=60-minDiff\n",
    "        if hourDiff<0:\n",
    "            hourDiff=24+hourDiff\n",
    "        if(hourDiff*60+minDiff<final[i]):         #calculating difference of sleeping time and first alarm to ring\n",
    "            final[i]=hourDiff*60+minDiff\n",
    "for i in range(k):\n",
    "    print(final[i]//60,final[i]%60)"
   ]
  }
 ],
 "metadata": {
  "kernelspec": {
   "display_name": "Python 3 (ipykernel)",
   "language": "python",
   "name": "python3"
  },
  "language_info": {
   "codemirror_mode": {
    "name": "ipython",
    "version": 3
   },
   "file_extension": ".py",
   "mimetype": "text/x-python",
   "name": "python",
   "nbconvert_exporter": "python",
   "pygments_lexer": "ipython3",
   "version": "3.9.7"
  }
 },
 "nbformat": 4,
 "nbformat_minor": 5
}
